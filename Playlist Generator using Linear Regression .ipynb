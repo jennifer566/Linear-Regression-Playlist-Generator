{
 "cells": [
  {
   "cell_type": "code",
   "execution_count": 1,
   "id": "8545f77f",
   "metadata": {},
   "outputs": [],
   "source": [
    "import pandas as pd\n",
    "import numpy as np\n",
    "import matplotlib.pyplot as plt\n",
    "import seaborn as sns\n",
    "from sklearn.model_selection import train_test_split\n",
    "from sklearn.linear_model import LinearRegression\n",
    "from sklearn.metrics import mean_squared_error, r2_score\n",
    "from sklearn.preprocessing import StandardScaler\n",
    "from flask import Flask, render_template, request\n",
    "from sklearn.preprocessing import LabelEncoder\n"
   ]
  },
  {
   "cell_type": "code",
   "execution_count": 2,
   "id": "9c84d290",
   "metadata": {},
   "outputs": [],
   "source": [
    "file_path = 'dataset.csv'  \n",
    "df = pd.read_csv(file_path)"
   ]
  },
  {
   "cell_type": "code",
   "execution_count": 3,
   "id": "1e85ce18",
   "metadata": {},
   "outputs": [
    {
     "name": "stdout",
     "output_type": "stream",
     "text": [
      "Initial DataFrame:\n",
      "   Unnamed: 0                track_id                 artists  \\\n",
      "0           0  5SuOikwiRyPMVoIQDJUgSV             Gen Hoshino   \n",
      "1           1  4qPNDBW1i3p13qLCt0Ki3A            Ben Woodward   \n",
      "2           2  1iJBSr7s7jYXzM8EGcbK5b  Ingrid Michaelson;ZAYN   \n",
      "3           3  6lfxq3CG4xtTiEg7opyCyx            Kina Grannis   \n",
      "4           4  5vjLSffimiIP26QG5WcN2K        Chord Overstreet   \n",
      "\n",
      "                                          album_name  \\\n",
      "0                                             Comedy   \n",
      "1                                   Ghost (Acoustic)   \n",
      "2                                     To Begin Again   \n",
      "3  Crazy Rich Asians (Original Motion Picture Sou...   \n",
      "4                                            Hold On   \n",
      "\n",
      "                   track_name  popularity  duration_ms  explicit  \\\n",
      "0                      Comedy          73       230666     False   \n",
      "1            Ghost - Acoustic          55       149610     False   \n",
      "2              To Begin Again          57       210826     False   \n",
      "3  Can't Help Falling In Love          71       201933     False   \n",
      "4                     Hold On          82       198853     False   \n",
      "\n",
      "   danceability  energy  ...  loudness  mode  speechiness  acousticness  \\\n",
      "0         0.676  0.4610  ...    -6.746     0       0.1430        0.0322   \n",
      "1         0.420  0.1660  ...   -17.235     1       0.0763        0.9240   \n",
      "2         0.438  0.3590  ...    -9.734     1       0.0557        0.2100   \n",
      "3         0.266  0.0596  ...   -18.515     1       0.0363        0.9050   \n",
      "4         0.618  0.4430  ...    -9.681     1       0.0526        0.4690   \n",
      "\n",
      "   instrumentalness  liveness  valence    tempo  time_signature  track_genre  \n",
      "0          0.000001    0.3580    0.715   87.917               4     acoustic  \n",
      "1          0.000006    0.1010    0.267   77.489               4     acoustic  \n",
      "2          0.000000    0.1170    0.120   76.332               4     acoustic  \n",
      "3          0.000071    0.1320    0.143  181.740               3     acoustic  \n",
      "4          0.000000    0.0829    0.167  119.949               4     acoustic  \n",
      "\n",
      "[5 rows x 21 columns]\n"
     ]
    }
   ],
   "source": [
    "# Displays the first few rows of the DataFrame to understand the structure\n",
    "print(\"Initial DataFrame:\")\n",
    "print(df.head())\n"
   ]
  },
  {
   "cell_type": "code",
   "execution_count": 4,
   "id": "f38a4c00",
   "metadata": {},
   "outputs": [
    {
     "name": "stdout",
     "output_type": "stream",
     "text": [
      "\n",
      "Missing Values:\n",
      "Unnamed: 0          0\n",
      "track_id            0\n",
      "artists             1\n",
      "album_name          1\n",
      "track_name          1\n",
      "popularity          0\n",
      "duration_ms         0\n",
      "explicit            0\n",
      "danceability        0\n",
      "energy              0\n",
      "key                 0\n",
      "loudness            0\n",
      "mode                0\n",
      "speechiness         0\n",
      "acousticness        0\n",
      "instrumentalness    0\n",
      "liveness            0\n",
      "valence             0\n",
      "tempo               0\n",
      "time_signature      0\n",
      "track_genre         0\n",
      "dtype: int64\n"
     ]
    }
   ],
   "source": [
    "print(\"\\nMissing Values:\")\n",
    "print(df.isnull().sum())"
   ]
  },
  {
   "cell_type": "code",
   "execution_count": 5,
   "id": "540ac3a5",
   "metadata": {},
   "outputs": [],
   "source": [
    "df = df.dropna()\n"
   ]
  },
  {
   "cell_type": "code",
   "execution_count": 6,
   "id": "97b40cf0",
   "metadata": {
    "scrolled": true
   },
   "outputs": [
    {
     "name": "stdout",
     "output_type": "stream",
     "text": [
      "\n",
      "Data Statistics:\n",
      "          Unnamed: 0     popularity   duration_ms   danceability  \\\n",
      "count  113999.000000  113999.000000  1.139990e+05  113999.000000   \n",
      "mean    56999.421925      33.238827  2.280312e+05       0.566801   \n",
      "std     32909.243463      22.304959  1.072961e+05       0.173543   \n",
      "min         0.000000       0.000000  8.586000e+03       0.000000   \n",
      "25%     28499.500000      17.000000  1.740660e+05       0.456000   \n",
      "50%     56999.000000      35.000000  2.129060e+05       0.580000   \n",
      "75%     85499.500000      50.000000  2.615060e+05       0.695000   \n",
      "max    113999.000000     100.000000  5.237295e+06       0.985000   \n",
      "\n",
      "              energy            key       loudness           mode  \\\n",
      "count  113999.000000  113999.000000  113999.000000  113999.000000   \n",
      "mean        0.641383       5.309126      -8.258950       0.637558   \n",
      "std         0.251530       3.559999       5.029357       0.480708   \n",
      "min         0.000000       0.000000     -49.531000       0.000000   \n",
      "25%         0.472000       2.000000     -10.013000       0.000000   \n",
      "50%         0.685000       5.000000      -7.004000       1.000000   \n",
      "75%         0.854000       8.000000      -5.003000       1.000000   \n",
      "max         1.000000      11.000000       4.532000       1.000000   \n",
      "\n",
      "         speechiness   acousticness  instrumentalness       liveness  \\\n",
      "count  113999.000000  113999.000000     113999.000000  113999.000000   \n",
      "mean        0.084652       0.314907          0.156051       0.213554   \n",
      "std         0.105733       0.332522          0.309556       0.190378   \n",
      "min         0.000000       0.000000          0.000000       0.000000   \n",
      "25%         0.035900       0.016900          0.000000       0.098000   \n",
      "50%         0.048900       0.169000          0.000042       0.132000   \n",
      "75%         0.084500       0.597500          0.049000       0.273000   \n",
      "max         0.965000       0.996000          1.000000       1.000000   \n",
      "\n",
      "             valence          tempo  time_signature  \n",
      "count  113999.000000  113999.000000   113999.000000  \n",
      "mean        0.474066     122.147695        3.904034  \n",
      "std         0.259261      29.978290        0.432623  \n",
      "min         0.000000       0.000000        0.000000  \n",
      "25%         0.260000      99.218500        4.000000  \n",
      "50%         0.464000     122.017000        4.000000  \n",
      "75%         0.683000     140.071000        4.000000  \n",
      "max         0.995000     243.372000        5.000000  \n"
     ]
    }
   ],
   "source": [
    "print(\"\\nData Statistics:\")\n",
    "print(df.describe())\n"
   ]
  },
  {
   "cell_type": "code",
   "execution_count": 7,
   "id": "eec87147",
   "metadata": {},
   "outputs": [
    {
     "name": "stdout",
     "output_type": "stream",
     "text": [
      "\n",
      "Data Info:\n",
      "<class 'pandas.core.frame.DataFrame'>\n",
      "Index: 113999 entries, 0 to 113999\n",
      "Data columns (total 21 columns):\n",
      " #   Column            Non-Null Count   Dtype  \n",
      "---  ------            --------------   -----  \n",
      " 0   Unnamed: 0        113999 non-null  int64  \n",
      " 1   track_id          113999 non-null  object \n",
      " 2   artists           113999 non-null  object \n",
      " 3   album_name        113999 non-null  object \n",
      " 4   track_name        113999 non-null  object \n",
      " 5   popularity        113999 non-null  int64  \n",
      " 6   duration_ms       113999 non-null  int64  \n",
      " 7   explicit          113999 non-null  bool   \n",
      " 8   danceability      113999 non-null  float64\n",
      " 9   energy            113999 non-null  float64\n",
      " 10  key               113999 non-null  int64  \n",
      " 11  loudness          113999 non-null  float64\n",
      " 12  mode              113999 non-null  int64  \n",
      " 13  speechiness       113999 non-null  float64\n",
      " 14  acousticness      113999 non-null  float64\n",
      " 15  instrumentalness  113999 non-null  float64\n",
      " 16  liveness          113999 non-null  float64\n",
      " 17  valence           113999 non-null  float64\n",
      " 18  tempo             113999 non-null  float64\n",
      " 19  time_signature    113999 non-null  int64  \n",
      " 20  track_genre       113999 non-null  object \n",
      "dtypes: bool(1), float64(9), int64(6), object(5)\n",
      "memory usage: 18.4+ MB\n",
      "None\n"
     ]
    }
   ],
   "source": [
    "print(\"\\nData Info:\")\n",
    "print(df.info())\n"
   ]
  },
  {
   "cell_type": "code",
   "execution_count": 8,
   "id": "5c637ca5",
   "metadata": {},
   "outputs": [],
   "source": [
    "features = df.drop('popularity', axis=1)  # Replace with your actual target variable column name\n",
    "target = df['popularity']"
   ]
  },
  {
   "cell_type": "code",
   "execution_count": 9,
   "id": "723bee8e",
   "metadata": {},
   "outputs": [
    {
     "name": "stdout",
     "output_type": "stream",
     "text": [
      "\n",
      "DataFrame after Data Preprocessing:\n",
      "   Unnamed: 0                track_id                 artists  \\\n",
      "0           0  5SuOikwiRyPMVoIQDJUgSV             Gen Hoshino   \n",
      "1           1  4qPNDBW1i3p13qLCt0Ki3A            Ben Woodward   \n",
      "2           2  1iJBSr7s7jYXzM8EGcbK5b  Ingrid Michaelson;ZAYN   \n",
      "3           3  6lfxq3CG4xtTiEg7opyCyx            Kina Grannis   \n",
      "4           4  5vjLSffimiIP26QG5WcN2K        Chord Overstreet   \n",
      "\n",
      "                                          album_name  \\\n",
      "0                                             Comedy   \n",
      "1                                   Ghost (Acoustic)   \n",
      "2                                     To Begin Again   \n",
      "3  Crazy Rich Asians (Original Motion Picture Sou...   \n",
      "4                                            Hold On   \n",
      "\n",
      "                   track_name  popularity  duration_ms  explicit  \\\n",
      "0                      Comedy          73       230666     False   \n",
      "1            Ghost - Acoustic          55       149610     False   \n",
      "2              To Begin Again          57       210826     False   \n",
      "3  Can't Help Falling In Love          71       201933     False   \n",
      "4                     Hold On          82       198853     False   \n",
      "\n",
      "   danceability  energy  ...  loudness  mode  speechiness  acousticness  \\\n",
      "0         0.676  0.4610  ...    -6.746     0       0.1430        0.0322   \n",
      "1         0.420  0.1660  ...   -17.235     1       0.0763        0.9240   \n",
      "2         0.438  0.3590  ...    -9.734     1       0.0557        0.2100   \n",
      "3         0.266  0.0596  ...   -18.515     1       0.0363        0.9050   \n",
      "4         0.618  0.4430  ...    -9.681     1       0.0526        0.4690   \n",
      "\n",
      "   instrumentalness  liveness  valence    tempo  time_signature  track_genre  \n",
      "0          0.000001    0.3580    0.715   87.917               4     acoustic  \n",
      "1          0.000006    0.1010    0.267   77.489               4     acoustic  \n",
      "2          0.000000    0.1170    0.120   76.332               4     acoustic  \n",
      "3          0.000071    0.1320    0.143  181.740               3     acoustic  \n",
      "4          0.000000    0.0829    0.167  119.949               4     acoustic  \n",
      "\n",
      "[5 rows x 21 columns]\n"
     ]
    }
   ],
   "source": [
    "print(\"\\nDataFrame after Data Preprocessing:\")\n",
    "print(df.head())"
   ]
  },
  {
   "cell_type": "code",
   "execution_count": 10,
   "id": "d803574f",
   "metadata": {},
   "outputs": [],
   "source": [
    "del df['Unnamed: 0']"
   ]
  },
  {
   "cell_type": "code",
   "execution_count": 11,
   "id": "732bbbc0",
   "metadata": {},
   "outputs": [],
   "source": [
    "df['duration_sec'] = df['duration_ms'] / 1000\n",
    "\n",
    "# Drop the original 'duration_ms' column if you no longer need it\n",
    "df = df.drop('duration_ms', axis=1)"
   ]
  },
  {
   "cell_type": "code",
   "execution_count": 12,
   "id": "905335ba",
   "metadata": {},
   "outputs": [],
   "source": [
    "df['explicit'] = df['explicit'].astype(bool)\n"
   ]
  },
  {
   "cell_type": "code",
   "execution_count": 13,
   "id": "03aa9980",
   "metadata": {},
   "outputs": [
    {
     "name": "stdout",
     "output_type": "stream",
     "text": [
      "Rows with invalid popularity values:\n",
      "Empty DataFrame\n",
      "Columns: [track_id, artists, album_name, track_name, popularity, explicit, danceability, energy, key, loudness, mode, speechiness, acousticness, instrumentalness, liveness, valence, tempo, time_signature, track_genre, duration_sec]\n",
      "Index: []\n"
     ]
    }
   ],
   "source": [
    "# Checking the 'popularity' column\n",
    "popularity_constraints = (df['popularity'] < 0) | (df['popularity'] > 100)\n",
    "\n",
    "# Identify rows that violate the constraints\n",
    "rows_with_invalid_popularity = df[popularity_constraints]\n",
    "\n",
    "# Display rows with invalid popularity values\n",
    "print(\"Rows with invalid popularity values:\")\n",
    "print(rows_with_invalid_popularity)"
   ]
  },
  {
   "cell_type": "code",
   "execution_count": 14,
   "id": "fae8e581",
   "metadata": {},
   "outputs": [
    {
     "name": "stdout",
     "output_type": "stream",
     "text": [
      "DataFrame after scaling:\n",
      "                 track_id                 artists  \\\n",
      "0  5SuOikwiRyPMVoIQDJUgSV             Gen Hoshino   \n",
      "1  4qPNDBW1i3p13qLCt0Ki3A            Ben Woodward   \n",
      "2  1iJBSr7s7jYXzM8EGcbK5b  Ingrid Michaelson;ZAYN   \n",
      "3  6lfxq3CG4xtTiEg7opyCyx            Kina Grannis   \n",
      "4  5vjLSffimiIP26QG5WcN2K        Chord Overstreet   \n",
      "\n",
      "                                          album_name  \\\n",
      "0                                             Comedy   \n",
      "1                                   Ghost (Acoustic)   \n",
      "2                                     To Begin Again   \n",
      "3  Crazy Rich Asians (Original Motion Picture Sou...   \n",
      "4                                            Hold On   \n",
      "\n",
      "                   track_name  popularity  explicit  danceability  energy  \\\n",
      "0                      Comedy          73     False         0.676  0.4610   \n",
      "1            Ghost - Acoustic          55     False         0.420  0.1660   \n",
      "2              To Begin Again          57     False         0.438  0.3590   \n",
      "3  Can't Help Falling In Love          71     False         0.266  0.0596   \n",
      "4                     Hold On          82     False         0.618  0.4430   \n",
      "\n",
      "   key  loudness  mode  speechiness  acousticness  instrumentalness  liveness  \\\n",
      "0    1  0.300825     0       0.1430        0.0322          0.000001    0.3580   \n",
      "1    1 -1.784739     1       0.0763        0.9240          0.000006    0.1010   \n",
      "2    0 -0.293289     1       0.0557        0.2100          0.000000    0.1170   \n",
      "3    0 -2.039246     1       0.0363        0.9050          0.000071    0.1320   \n",
      "4    2 -0.282751     1       0.0526        0.4690          0.000000    0.0829   \n",
      "\n",
      "   valence     tempo  time_signature track_genre  duration_sec  \n",
      "0    0.715 -1.141854               4    acoustic      0.024557  \n",
      "1    0.267 -1.489708               4    acoustic     -0.730889  \n",
      "2    0.120 -1.528303               4    acoustic     -0.160353  \n",
      "3    0.143  1.987857               3    acoustic     -0.243236  \n",
      "4    0.167 -0.073343               4    acoustic     -0.271942  \n"
     ]
    }
   ],
   "source": [
    "#Normalizing/Scaling:\n",
    "\n",
    "columns_to_scale = ['duration_sec', 'loudness', 'tempo']\n",
    "\n",
    "# Create a StandardScaler instance\n",
    "scaler = StandardScaler()\n",
    "\n",
    "# Fit the scaler on the selected columns and transform the data\n",
    "df[columns_to_scale] = scaler.fit_transform(df[columns_to_scale])\n",
    "\n",
    "# Display the DataFrame after scaling\n",
    "print(\"DataFrame after scaling:\")\n",
    "print(df.head())\n"
   ]
  },
  {
   "cell_type": "code",
   "execution_count": 15,
   "id": "0de87863",
   "metadata": {},
   "outputs": [
    {
     "name": "stdout",
     "output_type": "stream",
     "text": [
      "0         5SuOikwiRyPMVoIQDJUgSV\n",
      "1         4qPNDBW1i3p13qLCt0Ki3A\n",
      "2         1iJBSr7s7jYXzM8EGcbK5b\n",
      "3         6lfxq3CG4xtTiEg7opyCyx\n",
      "4         5vjLSffimiIP26QG5WcN2K\n",
      "                   ...          \n",
      "113995    2C3TZjDRiAzdyViavDJ217\n",
      "113996    1hIz5L4IB9hN3WRYPOCGPw\n",
      "113997    6x8ZfSoqDjuNa5SVP5QjvX\n",
      "113998    2e6sXL2bYv4bSz6VTdnfLs\n",
      "113999    2hETkH7cOfqmz3LqZDHZf5\n",
      "Name: track_id, Length: 113999, dtype: object\n"
     ]
    }
   ],
   "source": [
    "print(df['track_id'])\n"
   ]
  },
  {
   "cell_type": "code",
   "execution_count": 16,
   "id": "2780c20a",
   "metadata": {},
   "outputs": [
    {
     "name": "stdout",
     "output_type": "stream",
     "text": [
      "Index(['track_id', 'artists', 'album_name', 'track_name', 'popularity',\n",
      "       'explicit', 'danceability', 'energy', 'key', 'loudness', 'mode',\n",
      "       'speechiness', 'acousticness', 'instrumentalness', 'liveness',\n",
      "       'valence', 'tempo', 'time_signature', 'track_genre', 'duration_sec'],\n",
      "      dtype='object')\n"
     ]
    }
   ],
   "source": [
    "print(df.columns)\n"
   ]
  },
  {
   "cell_type": "code",
   "execution_count": 17,
   "id": "24711a83",
   "metadata": {},
   "outputs": [
    {
     "name": "stdout",
     "output_type": "stream",
     "text": [
      "                 track_id                 artists  \\\n",
      "0  5SuOikwiRyPMVoIQDJUgSV             Gen Hoshino   \n",
      "1  4qPNDBW1i3p13qLCt0Ki3A            Ben Woodward   \n",
      "2  1iJBSr7s7jYXzM8EGcbK5b  Ingrid Michaelson;ZAYN   \n",
      "3  6lfxq3CG4xtTiEg7opyCyx            Kina Grannis   \n",
      "4  5vjLSffimiIP26QG5WcN2K        Chord Overstreet   \n",
      "\n",
      "                                          album_name  \\\n",
      "0                                             Comedy   \n",
      "1                                   Ghost (Acoustic)   \n",
      "2                                     To Begin Again   \n",
      "3  Crazy Rich Asians (Original Motion Picture Sou...   \n",
      "4                                            Hold On   \n",
      "\n",
      "                   track_name  popularity  explicit  danceability  energy  \\\n",
      "0                      Comedy          73     False         0.676  0.4610   \n",
      "1            Ghost - Acoustic          55     False         0.420  0.1660   \n",
      "2              To Begin Again          57     False         0.438  0.3590   \n",
      "3  Can't Help Falling In Love          71     False         0.266  0.0596   \n",
      "4                     Hold On          82     False         0.618  0.4430   \n",
      "\n",
      "   key  loudness  mode  speechiness  acousticness  instrumentalness  liveness  \\\n",
      "0    1  0.300825     0       0.1430        0.0322          0.000001    0.3580   \n",
      "1    1 -1.784739     1       0.0763        0.9240          0.000006    0.1010   \n",
      "2    0 -0.293289     1       0.0557        0.2100          0.000000    0.1170   \n",
      "3    0 -2.039246     1       0.0363        0.9050          0.000071    0.1320   \n",
      "4    2 -0.282751     1       0.0526        0.4690          0.000000    0.0829   \n",
      "\n",
      "   valence     tempo  time_signature track_genre  duration_sec  \n",
      "0    0.715 -1.141854               4    acoustic      0.024557  \n",
      "1    0.267 -1.489708               4    acoustic     -0.730889  \n",
      "2    0.120 -1.528303               4    acoustic     -0.160353  \n",
      "3    0.143  1.987857               3    acoustic     -0.243236  \n",
      "4    0.167 -0.073343               4    acoustic     -0.271942  \n"
     ]
    }
   ],
   "source": [
    "print(df.head())"
   ]
  },
  {
   "cell_type": "code",
   "execution_count": 18,
   "id": "00c3e89c",
   "metadata": {
    "scrolled": true
   },
   "outputs": [
    {
     "name": "stdout",
     "output_type": "stream",
     "text": [
      "                 track_id                                         album_name  \\\n",
      "0  5SuOikwiRyPMVoIQDJUgSV                                             Comedy   \n",
      "1  4qPNDBW1i3p13qLCt0Ki3A                                   Ghost (Acoustic)   \n",
      "2  1iJBSr7s7jYXzM8EGcbK5b                                     To Begin Again   \n",
      "3  6lfxq3CG4xtTiEg7opyCyx  Crazy Rich Asians (Original Motion Picture Sou...   \n",
      "4  5vjLSffimiIP26QG5WcN2K                                            Hold On   \n",
      "\n",
      "   popularity  explicit  danceability  energy  key  loudness  mode  \\\n",
      "0          73     False         0.676  0.4610    1  0.300825     0   \n",
      "1          55     False         0.420  0.1660    1 -1.784739     1   \n",
      "2          57     False         0.438  0.3590    0 -0.293289     1   \n",
      "3          71     False         0.266  0.0596    0 -2.039246     1   \n",
      "4          82     False         0.618  0.4430    2 -0.282751     1   \n",
      "\n",
      "   speechiness  acousticness  instrumentalness  liveness  valence     tempo  \\\n",
      "0       0.1430        0.0322          0.000001    0.3580    0.715 -1.141854   \n",
      "1       0.0763        0.9240          0.000006    0.1010    0.267 -1.489708   \n",
      "2       0.0557        0.2100          0.000000    0.1170    0.120 -1.528303   \n",
      "3       0.0363        0.9050          0.000071    0.1320    0.143  1.987857   \n",
      "4       0.0526        0.4690          0.000000    0.0829    0.167 -0.073343   \n",
      "\n",
      "   time_signature track_genre  duration_sec  \\\n",
      "0               4    acoustic      0.024557   \n",
      "1               4    acoustic     -0.730889   \n",
      "2               4    acoustic     -0.160353   \n",
      "3               3    acoustic     -0.243236   \n",
      "4               4    acoustic     -0.271942   \n",
      "\n",
      "                       track_name_artist_name  \n",
      "0                       Comedy by Gen Hoshino  \n",
      "1            Ghost - Acoustic by Ben Woodward  \n",
      "2    To Begin Again by Ingrid Michaelson;ZAYN  \n",
      "3  Can't Help Falling In Love by Kina Grannis  \n",
      "4                 Hold On by Chord Overstreet  \n"
     ]
    }
   ],
   "source": [
    "df['track_name_artist_name'] = df['track_name'] + ' by ' + df['artists']\n",
    "df = df.drop(['track_name', 'artists'], axis=1)\n",
    "\n",
    "print(df.head())\n"
   ]
  },
  {
   "cell_type": "code",
   "execution_count": 6,
   "id": "bdc075fb",
   "metadata": {},
   "outputs": [
    {
     "name": "stdout",
     "output_type": "stream",
     "text": [
      "X_train shape: (91200, 8)\n",
      "X_test shape: (22800, 8)\n",
      "y_train shape: (91200,)\n",
      "y_test shape: (22800,)\n"
     ]
    }
   ],
   "source": [
    "import pandas as pd\n",
    "import numpy as np\n",
    "import matplotlib.pyplot as plt\n",
    "import seaborn as sns\n",
    "from sklearn.model_selection import train_test_split\n",
    "from sklearn.linear_model import LinearRegression\n",
    "from sklearn.metrics import mean_squared_error, r2_score\n",
    "from sklearn.preprocessing import StandardScaler\n",
    "from flask import Flask, render_template, request\n",
    "from sklearn.preprocessing import LabelEncoder\n",
    "\n",
    "file_path = 'dataset.csv'  \n",
    "df = pd.read_csv(file_path)\n",
    "df['track_name_artist_name'] = df['track_name'] + ' by ' + df['artists']\n",
    "df = df.drop(['track_name', 'artists'], axis=1)\n",
    "\n",
    "X = df[['danceability', 'energy', 'loudness', 'speechiness', 'instrumentalness', 'liveness', 'valence', 'tempo']]\n",
    "y = df['track_name_artist_name']\n",
    "\n",
    "# Split the data into training and testing sets\n",
    "X_train, X_test, y_train, y_test = train_test_split(X, y, test_size=0.2, random_state=42)\n",
    "\n",
    "# Display the shapes of the resulting sets\n",
    "print(\"X_train shape:\", X_train.shape)\n",
    "print(\"X_test shape:\", X_test.shape)\n",
    "print(\"y_train shape:\", y_train.shape)\n",
    "print(\"y_test shape:\", y_test.shape)"
   ]
  },
  {
   "cell_type": "markdown",
   "id": "ec0a286f",
   "metadata": {},
   "source": [
    "X_train shape: (91200, 8) indicates that you have 91,200 samples in your training set, and each sample has 8 features.\n",
    "\n",
    "X_test shape: (22800, 8) indicates that you have 22,800 samples in your testing set, and each sample also has 8 features.\n",
    "\n",
    "y_train shape: (91200,) indicates that your training set has 91,200 corresponding target values.\n",
    "\n",
    "y_test shape: (22800,) indicates that your testing set has 22,800 corresponding target values."
   ]
  },
  {
   "cell_type": "code",
   "execution_count": 1,
   "id": "a3d4ddcf",
   "metadata": {},
   "outputs": [
    {
     "name": "stdout",
     "output_type": "stream",
     "text": [
      "Mean Squared Error: 539518541.7691814\n",
      "R-squared: 0.0032684647385156085\n"
     ]
    }
   ],
   "source": [
    "import pandas as pd\n",
    "import numpy as np\n",
    "import matplotlib.pyplot as plt\n",
    "import seaborn as sns\n",
    "from sklearn.model_selection import train_test_split\n",
    "from sklearn.linear_model import LinearRegression\n",
    "from sklearn.metrics import mean_squared_error, r2_score\n",
    "from sklearn.preprocessing import StandardScaler\n",
    "from flask import Flask, render_template, request\n",
    "from sklearn.preprocessing import LabelEncoder\n",
    "from sklearn.metrics import accuracy_score, classification_report\n",
    "\n",
    "file_path = 'dataset.csv'  \n",
    "df = pd.read_csv(file_path)\n",
    "df['track_name_artist_name'] = df['track_name'] + ' by ' + df['artists']\n",
    "df = df.drop(['track_name', 'artists'], axis=1)\n",
    "\n",
    "X = df[['danceability', 'energy', 'loudness', 'speechiness', 'instrumentalness', 'liveness', 'valence', 'tempo']]\n",
    "y = df['track_name_artist_name']\n",
    "\n",
    "# Assuming df is your DataFrame with features and target variable\n",
    "# Encode categorical target variable\n",
    "le = LabelEncoder()\n",
    "df['track_name_artist_name_encoded'] = le.fit_transform(df['track_name_artist_name'])\n",
    "\n",
    "# Data Preprocessing\n",
    "X = df[['danceability', 'energy', 'loudness', 'speechiness', 'instrumentalness', 'liveness', 'valence', 'tempo']]\n",
    "y = df['track_name_artist_name_encoded']\n",
    "\n",
    "# Split the data into training and testing sets\n",
    "X_train, X_test, y_train, y_test = train_test_split(X, y, test_size=0.2, random_state=42)\n",
    "\n",
    "# Standardize the features\n",
    "scaler = StandardScaler()\n",
    "X_train_scaled = scaler.fit_transform(X_train)\n",
    "X_test_scaled = scaler.transform(X_test)\n",
    "\n",
    "# Train a Linear Regression model\n",
    "model = LinearRegression()\n",
    "model.fit(X_train_scaled, y_train)\n",
    "\n",
    "# Make predictions on the test set\n",
    "predictions = model.predict(X_test_scaled)\n",
    "\n",
    "# Evaluate the model\n",
    "mse = mean_squared_error(y_test, predictions)\n",
    "r2 = r2_score(y_test, predictions)\n",
    "\n",
    "print(\"Mean Squared Error:\", mse)\n",
    "print(\"R-squared:\", r2)"
   ]
  },
  {
   "cell_type": "code",
   "execution_count": 2,
   "id": "740c1bfd",
   "metadata": {},
   "outputs": [
    {
     "data": {
      "image/png": "[encoded data removed]",
      "text/plain": [
       "<Figure size 640x480 with 1 Axes>"
      ]
     },
     "metadata": {},
     "output_type": "display_data"
    }
   ],
   "source": [
    "plt.scatter(y_test, predictions)\n",
    "plt.xlabel(\"Actual Values\")\n",
    "plt.ylabel(\"Predicted Values\")\n",
    "plt.title(\"Actual vs. Predicted Values\")\n",
    "plt.show()"
   ]
  },
  {
   "cell_type": "code",
   "execution_count": 14,
   "id": "5b66e46c",
   "metadata": {
    "scrolled": true
   },
   "outputs": [
    {
     "name": "stdout",
     "output_type": "stream",
     "text": [
      "Mean Squared Error: 483.3007293742112\n",
      "R-squared: 0.020629281092979124\n"
     ]
    }
   ],
   "source": [
    "from sklearn.linear_model import LinearRegression\n",
    "from sklearn.model_selection import train_test_split\n",
    "import pandas as pd\n",
    "\n",
    "file_path = 'dataset.csv'  \n",
    "df = pd.read_csv(file_path)\n",
    "\n",
    "\n",
    "X = df[['danceability', 'energy', 'loudness', 'speechiness', 'instrumentalness', 'liveness', 'valence', 'tempo']]\n",
    "y = df['popularity'] \n",
    "\n",
    "# Assuming X and y are your feature matrix and target variable\n",
    "X_train, X_test, y_train, y_test = train_test_split(X, y, test_size=0.2, random_state=42)\n",
    "\n",
    "model = LinearRegression()\n",
    "model.fit(X_train, y_train)\n",
    "\n",
    "# Now you can make predictions and evaluate the model\n",
    "y_pred = model.predict(X_test)\n",
    "mse = mean_squared_error(y_test, y_pred)\n",
    "r2 = r2_score(y_test, y_pred)\n",
    "\n",
    "print(f'Mean Squared Error: {mse}')\n",
    "print(f'R-squared: {r2}')\n",
    "\n"
   ]
  },
  {
   "cell_type": "code",
   "execution_count": 18,
   "id": "8d58a6d6",
   "metadata": {},
   "outputs": [
    {
     "name": "stdout",
     "output_type": "stream",
     "text": [
      "Predicted Popularity for the Playlist:\n",
      "                                              track_name  \\\n",
      "3206                                         Sugar Daddy   \n",
      "14428                         Once I Caught a Fish Alive   \n",
      "33824  the remedy for a broken heart (why am I so in ...   \n",
      "13196        Take It Easy - Sonny Fodera & Mat.Joe Remix   \n",
      "18056                                          Dumplings   \n",
      "13756        Take It Easy - Sonny Fodera & Mat.Joe Remix   \n",
      "94608                                           Poseidon   \n",
      "33868                                      Black Siemens   \n",
      "\n",
      "                                    artists  predicted_popularity  \n",
      "3206                            Qveen Herby             83.044398  \n",
      "14428     Belle and the Nursery Rhymes Band             77.153081  \n",
      "33824                          XXXTENTACION             75.515732  \n",
      "13196  Gershon Jackson;Mat.Joe;Sonny Fodera             75.154496  \n",
      "18056                              Pink Guy             75.083076  \n",
      "13756  Gershon Jackson;Mat.Joe;Sonny Fodera             74.871684  \n",
      "94608                                 gavn!             74.733403  \n",
      "33868                               PHARAOH             74.579049  \n"
     ]
    }
   ],
   "source": [
    "df[['danceability', 'energy', 'loudness', 'speechiness', 'instrumentalness', 'liveness', 'valence', 'tempo']] = scaler.fit_transform(df[['danceability', 'energy', 'loudness', 'speechiness', 'instrumentalness', 'liveness', 'valence', 'tempo']])\n",
    "\n",
    "# Predict popularity for the playlist using your trained model\n",
    "X_playlist = df[['danceability', 'energy', 'loudness', 'speechiness', 'instrumentalness', 'liveness', 'valence', 'tempo']]\n",
    "predicted_popularity = model.predict(X_playlist)\n",
    "\n",
    "# Add predicted popularity to the DataFrame\n",
    "df['predicted_popularity'] = predicted_popularity\n",
    "\n",
    "# Rank songs based on predicted popularity\n",
    "df_ranked = df.sort_values(by='predicted_popularity', ascending=False)\n",
    "\n",
    "# Select top N songs for the playlist\n",
    "top_n_songs = df_ranked.head(8)  # N is the number of songs you want in your playlist\n",
    "\n",
    "# Print predicted popularity for each song\n",
    "print(\"Predicted Popularity for the Playlist:\")\n",
    "print(top_n_songs[['track_name', 'artists', 'predicted_popularity']])"
   ]
  },
  {
   "cell_type": "code",
   "execution_count": 21,
   "id": "cecfe569",
   "metadata": {},
   "outputs": [
    {
     "data": {
      "image/png": "[encoded data removed]",
      "text/plain": [
       "<Figure size 1000x600 with 1 Axes>"
      ]
     },
     "metadata": {},
     "output_type": "display_data"
    }
   ],
   "source": [
    "# Rank songs based on predicted popularity\n",
    "df_ranked = df.sort_values(by='predicted_popularity', ascending=False)\n",
    "\n",
    "# Select top N songs for the playlist\n",
    "top_n_songs = df_ranked.head(8)  # N is the number of songs you want in your playlist\n",
    "\n",
    "# Data visualization\n",
    "plt.figure(figsize=(10, 6))\n",
    "sns.barplot(x='predicted_popularity', y='track_name', data=top_n_songs, palette='viridis')\n",
    "plt.title('Predicted Popularity for Playlist Songs')\n",
    "plt.xlabel('Predicted Popularity')\n",
    "plt.ylabel('Track Name')\n",
    "plt.show()"
   ]
  }
 ],
 "metadata": {
  "kernelspec": {
   "display_name": "Python 3 (ipykernel)",
   "language": "python",
   "name": "python3"
  },
  "language_info": {
   "codemirror_mode": {
    "name": "ipython",
    "version": 3
   },
   "file_extension": ".py",
   "mimetype": "text/x-python",
   "name": "python",
   "nbconvert_exporter": "python",
   "pygments_lexer": "ipython3",
   "version": "3.11.5"
  }
 },
 "nbformat": 4,
 "nbformat_minor": 5
}
